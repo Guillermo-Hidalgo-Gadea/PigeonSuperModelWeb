{
 "cells": [
  {
   "cell_type": "markdown",
   "metadata": {},
   "source": [
    "# How to use the PigeonSuperModel\n",
    "\n",
    "Download this notebook in the upper right corner as `.ipynb` file and start it from within your DeepLabCut environment. If you need to install DeepLabCut first, please check [here](https://pigeonsupermodel.com/DLC_StudentGuide.html#installation). \n",
    "\n",
    "This notebook will show you how to create a pretrained project with the PigeonSuperModel using the DeepLabCut ModelZoo to analyze your own pigeon video data:\n",
    "\n",
    "* Preliminary Settings\n",
    "* Create Pretrained Model\n",
    "* Model Settings\n",
    "* Analyze New Videos\n",
    "* Filter Predictions (**optional**)\n",
    "* Create Labeled Videos (**optional**)"
   ]
  },
  {
   "cell_type": "markdown",
   "metadata": {},
   "source": [
    "## Some preliminary settings\n",
    "\n",
    "Remember to start this notebook from within your deeplabcut anaconda environment to have access to the packages below."
   ]
  },
  {
   "cell_type": "code",
   "execution_count": 1,
   "metadata": {},
   "outputs": [],
   "source": [
    "import os\n",
    "import urllib\n",
    "import cv2\n",
    "import deeplabcut"
   ]
  },
  {
   "cell_type": "markdown",
   "metadata": {},
   "source": [
    "The PigeonSuperModel is not yet included in the DeepLabCut model zoo, therefore, you will have to download it directly from our [GitLab repository](https://gitlab.ruhr-uni-bochum.de/ikn/pigeonsupermodel/-/tree/main/models/DeepLabCut). To do so, you will need to make some small changes in your local DeepLabCut installation directory. The function `monkeypatch()` below helps you do exatly that. First, it locates a file named `pretrained_model_urls.yaml` in your local DeepLabCut installation and adds the new URLs to reach the PigeonSuperModel repository. In a last step, it adds the names of the PigeonSuperModels to the `modelzoo.py` Modeloptions as valid model names. After this, you are all set to use the oficial function `deeplabcut.create_pretrained_project()` to create a pretrained project with the PigeonSuperModel.\n",
    "\n",
    ":::{note}\n",
    "This monkeypatch is hopefully outdated soon, when the PigeonSuperModel is officially supported by the DeepLabCut ModelZoo. \n",
    ":::"
   ]
  },
  {
   "cell_type": "code",
   "execution_count": 42,
   "metadata": {},
   "outputs": [],
   "source": [
    "def monkeypatch():\n",
    "    '''\n",
    "    This function locates a file named 'pose_estimation_tensorflow/models/pretrained/pretrained_model_urls.yaml' in your local DeepLabCut\n",
    "    installation and adds the new URLs below to reach the PigeonSUperModel repository.\n",
    "    In a last step, the names of the PigeonSuperModels are added to the 'modelzoo.py' Modeloptions as valid model names.\n",
    "    '''\n",
    "    \n",
    "    import os\n",
    "    import deeplabcut\n",
    "    from deeplabcut.utils import auxiliaryfunctions\n",
    "    from deeplabcut.create_project import modelzoo\n",
    "\n",
    "    # locate the `pretrained_model_urls.yaml` file in your local DeepLabCut installation (hardcoded based on deeplabcut dir structure)\n",
    "    neturls_path = os.path.join(auxiliaryfunctions.get_deeplabcut_path(), 'pose_estimation_tensorflow', 'models', 'pretrained', 'pretrained_model_urls.yaml')\n",
    "\n",
    "    edits = {'PigeonSuperModel_resnet_50':  'https://gitlab.ruhr-uni-bochum.de/ikn/pigeonsupermodel/-/raw/main/models/DeepLabCut/DLC_PigeonSuperModel_01_resnet_50_iteration-2_shuffle-3.tar.gz',\n",
    "             'PigeonSuperModel_resnet_101': 'https://gitlab.ruhr-uni-bochum.de/ikn/pigeonsupermodel/-/raw/main/models/DeepLabCut/DLC_PigeonSuperModel_01_resnet_101_iteration-2_shuffle-4.tar.gz', \n",
    "             'PigeonSuperModel_resnet_152': 'https://gitlab.ruhr-uni-bochum.de/ikn/pigeonsupermodel/-/raw/main/models/DeepLabCut/DLC_PigeonSuperModel_01_resnet_152_iteration-2_shuffle-5.tar.gz'}\n",
    "    \n",
    "    # add new model to the neturls file     \n",
    "    deeplabcut.auxiliaryfunctions.edit_config(neturls_path, edits)\n",
    "\n",
    "    # add new model to locally loaded Modeloptions from modelzoo.py\n",
    "    modelzoo.Modeloptions.extend(['PigeonSuperModel_resnet_50', 'PigeonSuperModel_resnet_101', 'PigeonSuperModel_resnet_152'])\n",
    "    \n",
    "# you may need admin rights on your computer to edit the files above\n",
    "monkeypatch()"
   ]
  },
  {
   "cell_type": "markdown",
   "metadata": {},
   "source": [
    "## Create your local PigeonSuperModel project\n",
    "\n",
    "First, you should start by setting a path to where your project should be created, and giving your new project a salient but short name."
   ]
  },
  {
   "cell_type": "code",
   "execution_count": 46,
   "metadata": {},
   "outputs": [],
   "source": [
    "# give it a place to be\n",
    "projectpath = r'D:/'\n",
    "\n",
    "# give it a name\n",
    "projectname = r'My2PigeonSuperModel'"
   ]
  },
  {
   "cell_type": "markdown",
   "metadata": {},
   "source": [
    "Next, we will use DeepLabCuts own function `deeplabcut.create_pretrained_project()` to create a pretrained project. Unfortunately, (or maybe by design?) this function assumes you want to directly include your videos to the project `videodir`, which may be not the most efficient way to go when you work with large videos (videos will be copied, not moved, which may take quite a while and use up space unnecessarily.\n",
    "\n",
    "My recommendation is to use the cell block below to create a 1-sec dummy video to initialize your pretrained project. Then change any settings you want to in the config file, and finally select the videos you whant to analyze from a different directory to save time and storage. "
   ]
  },
  {
   "cell_type": "code",
   "execution_count": 48,
   "metadata": {},
   "outputs": [],
   "source": [
    "# create a dir with pre-trained DLC models\n",
    "model_dir = os.path.join(projectpath, projectname)\n",
    "try:\n",
    "    os.makedirs(model_dir)\n",
    "    os.chdir(model_dir)\n",
    "\n",
    "    # create dummy video\n",
    "    logolink = 'https://gitlab.ruhr-uni-bochum.de/ikn/pigeonsupermodel/-/raw/main/PigeonSuperModel.png?inline=false'\n",
    "    logo = os.path.join(model_dir, 'logo.png')\n",
    "    urllib.request.urlretrieve(logolink, logo);\n",
    "\n",
    "    dummyvideo = os.path.join(model_dir, 'logo.mp4')\n",
    "    img_array = []\n",
    "    for i in range(20):\n",
    "        img = cv2.imread(logo)\n",
    "        height, width, layers = img.shape\n",
    "        img_array.append(img)\n",
    "\n",
    "    out = cv2.VideoWriter(dummyvideo, cv2.VideoWriter_fourcc(*'mp4v'), 20, (width, height))\n",
    "    for i in range(len(img_array)):\n",
    "        out.write(img_array[i])\n",
    "    out.release()\n",
    "\n",
    "    video_path = dummyvideo\n",
    "except:\n",
    "    print('Error: The project directory could not be created. See if the model already exists, and check your write permissions on that disk.')\n"
   ]
  },
  {
   "cell_type": "markdown",
   "metadata": {},
   "source": [
    "Now you can create a pretrained DeepLabCut project. If prefere, you could directly create a list of videos to include in the project `[video_path]` and even activate `analyzevideo=True` to start analyzing right away, but I would advise to start slow, and check your settings of your new project first."
   ]
  },
  {
   "cell_type": "code",
   "execution_count": null,
   "metadata": {},
   "outputs": [],
   "source": [
    "# create pre-trained model from PigeonSuperModel\n",
    "config_path, _ = deeplabcut.create_pretrained_project(\n",
    "    projectname,\n",
    "    'PigeonSuperModel',\n",
    "    [video_path],\n",
    "    videotype='mp4',\n",
    "    copy_videos=True,\n",
    "    working_directory=os.path.join(projectpath, projectname),\n",
    "    model='PigeonSuperModel_resnet_152',\n",
    "    analyzevideo=False,\n",
    "    filtered=False,\n",
    "    createlabeledvideo=False,\n",
    "    )"
   ]
  },
  {
   "cell_type": "code",
   "execution_count": 45,
   "metadata": {},
   "outputs": [],
   "source": [
    "# delete dummy videos created before\n",
    "os.remove(dummyvideo)\n",
    "os.remove(logo)"
   ]
  },
  {
   "cell_type": "markdown",
   "metadata": {},
   "source": [
    "## Check project settings\n",
    "\n",
    "Now that you have your local copy of the PigeonSuperModel, you can open your `config.yaml` file to check your settings, specially the skeleton and your prefered plotting configuration.\n",
    "Alternatively, you can use the function `deeplabcut.auxiliaryfunctions.edit_config()` to pass any changes to the `config.yaml` file as below. "
   ]
  },
  {
   "cell_type": "code",
   "execution_count": 52,
   "metadata": {},
   "outputs": [],
   "source": [
    "# manually edit your config.yaml as needed\n",
    "edits = {\n",
    "    'skeleton': [\n",
    "        ['BT(BeakTip)', 'LC(LowerCere)'], \n",
    "        ['LC(LowerCere)', 'UC(UpperCere)'], \n",
    "        ['UC(UpperCere)', 'H(Head)'], \n",
    "        ['H(Head)', 'LE(LeftEye)'], \n",
    "        ['H(Head)', 'RE(RightEye)'], \n",
    "        ['LE(LeftEye)', 'RE(RightEye)'], \n",
    "        ['LE(LeftEye)', 'UC(UpperCere)'], \n",
    "        ['LE(LeftEye)', 'UN(UpperNeck)'], \n",
    "        ['RE(RightEye)', 'UC(UpperCere)'], \n",
    "        ['RE(RightEye)', 'UN(UpperNeck)'], \n",
    "        ['LE(LeftEye)', 'C(Chin)'], \n",
    "        ['RE(RightEye)', 'C(Chin)'], \n",
    "        ['H(Head)', 'UN(UpperNeck)'], \n",
    "        ['UN(UpperNeck)', 'UHN(UpperHalfNeck)'], \n",
    "        ['UHN(UpperHalfNeck)', 'MN(MiddleNeck)'], \n",
    "        ['MN(MiddleNeck)', 'LHN(LowerHalfNeck)'], \n",
    "        ['LHN(LowerHalfNeck)', 'US(UpperSpine=LN)'], \n",
    "        ['US(UpperSpine=LN)', 'UHS(UpperHalfSpine)'], \n",
    "        ['UHS(UpperHalfSpine)', 'MS(MiddleSpine)'], \n",
    "        ['MS(MiddleSpine)', 'LHS(LowerHalfSpine)'], \n",
    "        ['LHS(LowerHalfSpine)', 'LS(LowerSpine)'], \n",
    "        ['LS(LowerSpine)', 'TC(TailCenter)'], \n",
    "        ['LS(LowerSpine)', 'TL(TailLeft)'], \n",
    "        ['LS(LowerSpine)', 'TR(TailRight)'], \n",
    "        ['TL(TailLeft)', 'TC(TailCenter)'], \n",
    "        ['TC(TailCenter)', 'TR(TailRight)'], \n",
    "        ['US(UpperSpine=LN)', 'LWS(LeftWingShoulder)'], \n",
    "        ['LWS(LeftWingShoulder)', 'LWE(LeftWingElbow)'], \n",
    "        ['LWE(LeftWingElbow)', 'LWW(LeftWingWriwst)'], \n",
    "        ['LWW(LeftWingWriwst)', 'LWT(LeftWingTip)'], \n",
    "        ['US(UpperSpine=LN)', 'RWS(RightWingShoulder)'], \n",
    "        ['RWS(RightWingShoulder)', 'RWE(RightWingElbow)'], \n",
    "        ['RWE(RightWingElbow)', 'RWW(RightWingWriwst)'], \n",
    "        ['RWW(RightWingWriwst)', 'RWT(RightWingTip)'], \n",
    "        ['LWS(LeftWingShoulder)', 'LC(LeftChest)'], \n",
    "        ['LC(LeftChest)', 'LHC(LeftHalfChest)'], \n",
    "        ['LHC(LeftHalfChest)', 'MC(MiddleChest)'], \n",
    "        ['MC(MiddleChest)', 'RHC(RightHalfChest)'], \n",
    "        ['RHC(RightHalfChest)', 'RC(RightChest)'], \n",
    "        ['RC(RightChest)', 'RWS(RightWingShoulder)'], \n",
    "        ['MC(MiddleChest)', 'MT(MiddleThroat)'], \n",
    "        ['MT(MiddleThroat)', 'C(Chin)'], \n",
    "        ['C(Chin)', 'BT(BeakTip)'], \n",
    "        ['RF(RightFoot)', 'RA(RightAnkle)'], \n",
    "        ['RA(RightAnkle)', 'RT(RightTibia)'], \n",
    "        ['RT(RightTibia)', 'RWS(RightWingShoulder)'], \n",
    "        ['RT(RightTibia)', 'LS(LowerSpine)'], \n",
    "        ['RT(RightTibia)', 'MC(MiddleChest)'], \n",
    "        ['LF(LeftFoot)', 'LA(LeftAnkle)'], \n",
    "        ['LA(LeftAnkle)', 'LT(LeftTibia)'], \n",
    "        ['LT(LeftTibia)', 'LWS(LeftWingShoulder)'], \n",
    "        ['LT(LeftTibia)', 'LS(LowerSpine)'], \n",
    "        ['LT(LeftTibia)', 'MC(MiddleChest)'], \n",
    "        ['RC(RightChest)', 'MT(MiddleThroat)'], \n",
    "        ['LC(LeftChest)', 'MT(MiddleThroat)'], \n",
    "        ['LHC(LeftHalfChest)', 'MT(MiddleThroat)'], \n",
    "        ['RHC(RightHalfChest)', 'MT(MiddleThroat)'], \n",
    "        ['C(Chin)', 'LHC(LeftHalfChest)'], \n",
    "        ['C(Chin)', 'RHC(RightHalfChest)'], \n",
    "        ['C(Chin)', 'LC(LeftChest)'], \n",
    "        ['C(Chin)', 'RC(RightChest)'], \n",
    "        ['C(Chin)', 'LWS(LeftWingShoulder)'], \n",
    "        ['C(Chin)', 'RWS(RightWingShoulder)'], \n",
    "        ['US(UpperSpine=LN)', 'RWT(RightWingTip)'], \n",
    "        ['RWS(RightWingShoulder)', 'RWT(RightWingTip)'], \n",
    "        ['RWE(RightWingElbow)', 'RWT(RightWingTip)'], \n",
    "        ['US(UpperSpine=LN)', 'LWT(LeftWingTip)'], \n",
    "        ['LWS(LeftWingShoulder)', 'LWT(LeftWingTip)'], \n",
    "        ['LWE(LeftWingElbow)', 'LWT(LeftWingTip)'], \n",
    "        ['RT(RightTibia)', 'RC(RightChest)'], \n",
    "        ['RT(RightTibia)', 'RHC(RightHalfChest)'], \n",
    "        ['LT(LeftTibia)', 'LC(LeftChest)'], \n",
    "        ['LT(LeftTibia)', 'LHC(LeftHalfChest)'], \n",
    "        ['RWS(RightWingShoulder)', 'TR(TailRight)'], \n",
    "        ['LWS(LeftWingShoulder)', 'TL(TailLeft)'], \n",
    "        ['UN(UpperNeck)', 'RWS(RightWingShoulder)'], \n",
    "        ['UN(UpperNeck)', 'RWE(RightWingElbow)'], \n",
    "        ['UN(UpperNeck)', 'LWS(LeftWingShoulder)'], \n",
    "        ['UN(UpperNeck)', 'LWE(LeftWingElbow)'], \n",
    "        ['UN(UpperNeck)', 'UHN(UpperHalfNeck)'],\n",
    "        ],\n",
    "    'dotsize': 7,  # size of the dots!\n",
    "    'colormap': 'inferno',  # any matplotlib colormap!\n",
    "    'pcutoff': 0.5,  # the higher the threshold, the more conservative the plotting!\n",
    "}\n",
    "\n",
    "# write new skeleton into config.yaml file\n",
    "deeplabcut.auxiliaryfunctions.edit_config(config_path, edits);"
   ]
  },
  {
   "cell_type": "markdown",
   "metadata": {},
   "source": [
    "## Analyze new videos\n",
    "\n",
    "Now that your new pretrained project is ready to go, you can start analyzing your own videos. You could open the project from the GUI in anaconda with `python -m deeplabcut`, or just run the analysis from this notebook. To analyze selected videos create a `videolist`, and to analyze all videos within a given directory, pass the `videodir`. "
   ]
  },
  {
   "cell_type": "code",
   "execution_count": null,
   "metadata": {},
   "outputs": [],
   "source": [
    "# define a list of videos\n",
    "videolist = ['C:\\\\Users\\\\computername\\\\Videos\\\\reachingvideo1.avi', \n",
    "            'C:\\\\Users\\\\computername\\\\Videos\\\\reachingvideo2.avi', \n",
    "            'C:\\\\Users\\\\computername\\\\Videos\\\\reachingvideo3.avi']\n",
    "\n",
    "# define entire video virectory\n",
    "videodir = 'C:\\\\Users\\\\computername\\\\Videos'\n",
    "\n",
    "# define output directory for DLC outputs\n",
    "outputdir = 'C:\\\\Users\\\\computername\\\\DLC_Outputs'"
   ]
  },
  {
   "cell_type": "code",
   "execution_count": null,
   "metadata": {},
   "outputs": [],
   "source": [
    "# analyze list of videos\n",
    "deeplabcut.analyze_videos(config_path, videolist, save_as_csv=True, destfolder=outputdir, videotype='mp4')"
   ]
  },
  {
   "cell_type": "code",
   "execution_count": null,
   "metadata": {},
   "outputs": [],
   "source": [
    "# analyze entire directory\n",
    "deeplabcut.analyze_videos(config_path, [videodir], save_as_csv=True, destfolder=outputdir, videotype='mp4')"
   ]
  },
  {
   "cell_type": "markdown",
   "metadata": {},
   "source": [
    "## Filter Predictions (Optional)"
   ]
  },
  {
   "cell_type": "code",
   "execution_count": null,
   "metadata": {},
   "outputs": [],
   "source": [
    "deeplabcut.filterpredictions(config_path, videolist, videotype='mp4', filtertype= 'arima', ARdegree=5, MAdegree=2)"
   ]
  },
  {
   "cell_type": "markdown",
   "metadata": {},
   "source": [
    "## Create Labeled Videos (Optional)"
   ]
  },
  {
   "cell_type": "code",
   "execution_count": null,
   "metadata": {},
   "outputs": [],
   "source": [
    "deeplabcut.create_labeled_video(config_path, videolist, videotype='mp4', filtered=True, trailpoints=10, draw_skeleton = True, keypoints_only=False)"
   ]
  },
  {
   "cell_type": "code",
   "execution_count": null,
   "metadata": {},
   "outputs": [],
   "source": [
    "deeplabcut.plot_trajectories(config_path, videolist)"
   ]
  }
 ],
 "metadata": {
  "interpreter": {
   "hash": "10e4c8f011fb505f637c1c5f32ebb16b6b72c834718b1ec7efb2f718f7acafa3"
  },
  "kernelspec": {
   "display_name": "Python 3.7.12 ('dlc')",
   "language": "python",
   "name": "python3"
  },
  "language_info": {
   "codemirror_mode": {
    "name": "ipython",
    "version": 3
   },
   "file_extension": ".py",
   "mimetype": "text/x-python",
   "name": "python",
   "nbconvert_exporter": "python",
   "pygments_lexer": "ipython3",
   "version": "3.7.12"
  },
  "orig_nbformat": 4
 },
 "nbformat": 4,
 "nbformat_minor": 2
}
