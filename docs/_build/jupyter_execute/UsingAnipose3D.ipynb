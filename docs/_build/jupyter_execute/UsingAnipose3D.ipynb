{
 "cells": [
  {
   "cell_type": "markdown",
   "metadata": {},
   "source": [
    "# Using Anipose for 3D Pose Reconstruction\n",
    "\n",
    "Download this notebook in the upper right corner as .ipynb file and start it from within your Anipose environment. If you need to install DeepLabCut first, please check [here](https://anipose.readthedocs.io/en/latest/installation.html).\n",
    "\n",
    "This notebook will show you how to start an anipose project for 3D pose reconstruction using your trained DeepLabCut models:\n",
    "\n",
    "* Create Anipose Project\n",
    "    * Directory Structure\n",
    "    * Config.toml file\n",
    "    * Videos\n",
    "* Update Project Specific Settings\n",
    "* Anipose Pipeline\n",
    "    * Analyze\n",
    "    * Filter\n",
    "    * Calibrate\n",
    "    * Triangulate\n",
    "    * 2D labeled videos (**optional**)\n",
    "    * 3D labeled videos (**optional**)\n",
    "    * Filter 3D poses (**optional**)\n"
   ]
  },
  {
   "cell_type": "code",
   "execution_count": null,
   "metadata": {},
   "outputs": [],
   "source": [
    "# start from anipose environment\n",
    "import os\n",
    "import toml"
   ]
  },
  {
   "cell_type": "markdown",
   "metadata": {},
   "source": [
    "## Create Anipose Project"
   ]
  },
  {
   "cell_type": "code",
   "execution_count": null,
   "metadata": {},
   "outputs": [],
   "source": [
    "# choose project name and working directory\n",
    "new_project_directory = r'D:\\NewAniposeProject'\n",
    "new_project_name = 'PigeonTriangulation'\n",
    "\n",
    "# get list of new sessions\n",
    "sessionlist = [\n",
    "    'session1',\n",
    "    'session2',\n",
    "    ]"
   ]
  },
  {
   "cell_type": "markdown",
   "metadata": {},
   "source": [
    "### Create Directory Structure"
   ]
  },
  {
   "cell_type": "code",
   "execution_count": null,
   "metadata": {},
   "outputs": [],
   "source": [
    "# create project structure\n",
    "for session in sessionlist:\n",
    "    # make videos-raw folder for behavior\n",
    "    videopath = os.path.join(new_project_directory, new_project_name, session, 'videos-raw')\n",
    "    os.makedirs(videopath)\n",
    "\n",
    "    # make calibration folder\n",
    "    calibrationpath = os.path.join(new_project_directory, new_project_name, session, 'calibration')\n",
    "    os.makedirs(calibrationpath)\n",
    "\n",
    "# save project directory\n",
    "projectpath = os.path.join(new_project_directory, new_project_name)\n",
    "os.chdir(projectpath)\n",
    "\n",
    "print(f'Done! New Anipose Project created: {os.getcwd()}')"
   ]
  },
  {
   "cell_type": "markdown",
   "metadata": {},
   "source": [
    "### Create config.toml file"
   ]
  },
  {
   "cell_type": "code",
   "execution_count": null,
   "metadata": {},
   "outputs": [],
   "source": [
    "# default from anipos: https://github.com/lambdaloop/anipose/blob/master/anipose/anipose.py\n",
    "DEFAULT_CONFIG = {\n",
    "    'video_extension': 'avi',\n",
    "    'converted_video_speed': 1,\n",
    "    'calibration': {\n",
    "        'animal_calibration': False,\n",
    "        'calibration_init': None,\n",
    "        'fisheye': False\n",
    "    },\n",
    "    'manual_verification': {\n",
    "        'manually_verify': False\n",
    "    },\n",
    "    'triangulation': {\n",
    "        'ransac': False,\n",
    "        'optim': False,\n",
    "        'scale_smooth': 2,\n",
    "        'scale_length': 2,\n",
    "        'scale_length_weak': 1,\n",
    "        'reproj_error_threshold': 5,\n",
    "        'score_threshold': 0.8,\n",
    "        'n_deriv_smooth': 3,\n",
    "        'constraints': [],\n",
    "        'constraints_weak': []\n",
    "    },\n",
    "    'pipeline': {\n",
    "        'videos_raw': 'videos-raw',\n",
    "        'videos_raw_mp4': 'videos-raw-mp4',\n",
    "        'pose_2d': 'pose-2d',\n",
    "        'pose_2d_filter': 'pose-2d-filtered',\n",
    "        'pose_2d_projected': 'pose-2d-proj',\n",
    "        'pose_3d': 'pose-3d',\n",
    "        'pose_3d_filter': 'pose-3d-filtered',\n",
    "        'videos_labeled_2d': 'videos-labeled',\n",
    "        'videos_labeled_2d_filter': 'videos-labeled-filtered',\n",
    "        'calibration_videos': 'calibration',\n",
    "        'calibration_results': 'calibration',\n",
    "        'videos_labeled_3d': 'videos-3d',\n",
    "        'videos_labeled_3d_filter': 'videos-3d-filtered',\n",
    "        'angles': 'angles',\n",
    "        'summaries': 'summaries',\n",
    "        'videos_combined': 'videos-combined',\n",
    "        'videos_compare': 'videos-compare',\n",
    "        'videos_2d_projected': 'videos-2d-proj',\n",
    "    },\n",
    "    'filter': {\n",
    "        'enabled': False,\n",
    "        'type': 'medfilt',\n",
    "        'medfilt': 13,\n",
    "        'offset_threshold': 25,\n",
    "        'score_threshold': 0.05,\n",
    "        'spline': True,\n",
    "        'n_back': 5,\n",
    "        'multiprocessing': False\n",
    "    },\n",
    "    'filter3d': {\n",
    "        'enabled': False\n",
    "    }\n",
    "}\n",
    "\n",
    "# create config.toml file\n",
    "configfile = os.path.join(projectpath, 'config.toml')\n",
    "\n",
    "with open(configfile, 'w') as f:\n",
    "     new_toml_string = toml.dump(DEFAULT_CONFIG, f)\n",
    "print(new_toml_string)"
   ]
  },
  {
   "cell_type": "markdown",
   "metadata": {},
   "source": [
    "### Move videos to populate project"
   ]
  },
  {
   "cell_type": "code",
   "execution_count": null,
   "metadata": {},
   "outputs": [],
   "source": [
    "# set directories with video data \n",
    "calibration_path = r'E:\\StopSignalSkinnerbox_local\\calibration'\n",
    "behavior_path = r'E:\\StopSignalSkinnerbox_local\\concatenated'"
   ]
  },
  {
   "cell_type": "code",
   "execution_count": null,
   "metadata": {},
   "outputs": [],
   "source": [
    "# populate new project\n",
    "copy = False # copy or move\n",
    "list_of_sessions = os.listdir(projectpath)\n",
    "calibration_videos = os.listdir(calibration_path)\n",
    "behavior_videos = os.listdir(behavior_path)\n",
    "\n",
    "\n",
    "for session in list_of_sessions:\n",
    "    # check if directories are populated\n",
    "    session_dirs = os.listdir(os.path.join(projectpath, session))\n",
    "    \n",
    "    # subset relevant videos \n",
    "    date = session[0:10] #YYYY_MM_DD_(conditions!!)_P007_camR/L.mp4 #session naming convention: 2022_04_25_P403\n",
    "    id = session[11:]\n",
    "    videos_to_move = []\n",
    "    videos_moved = []\n",
    "    session_calibration_videos = [video for video in calibration_videos if id in video if date in video]\n",
    "    session_behavior_videos = [video for video in behavior_videos if id in video if date in video]\n",
    "\n",
    "    for dir in session_dirs:\n",
    "        done = os.listdir(os.path.join(projectpath, session, dir))\n",
    "        \n",
    "        # find videos for\n",
    "        if dir == 'calibration':\n",
    "            videos_to_move.extend([os.path.join(calibration_path,video) for video in session_calibration_videos if video not in done])\n",
    "            videos_moved.extend([os.path.join(projectpath, session, dir, video) for video in session_calibration_videos if video not in done])        \n",
    "        else:\n",
    "            videos_to_move.extend([os.path.join(behavior_path, video) for video in session_behavior_videos if video not in done])\n",
    "            videos_moved.extend([os.path.join(projectpath, session, dir, video) for video in session_behavior_videos if video not in done])  \n",
    "\n",
    "    # move or copy\n",
    "    print(f'Moving {len(videos_to_move)} videos for session {session}:')\n",
    "\n",
    "    if copy:\n",
    "        for video1, video2 in zip(videos_to_move, videos_moved):\n",
    "            copy_command = f'copy {video1} {video2}'\n",
    "            os.system(copy_command)\n",
    "            print(f'{video2} coped!')\n",
    "    else:\n",
    "        for video1, video2 in zip(videos_to_move, videos_moved):\n",
    "            os.rename(video1, video2)\n",
    "            print(f'{video2} moved!')"
   ]
  },
  {
   "cell_type": "markdown",
   "metadata": {},
   "source": [
    "## Update project Specific Settings"
   ]
  },
  {
   "cell_type": "code",
   "execution_count": null,
   "metadata": {},
   "outputs": [],
   "source": [
    "# make quick changes to config.toml\n",
    "def change_toml(edits, configfile):\n",
    "    # read config\n",
    "    myconfig = toml.load(configfile)\n",
    "    # change config\n",
    "    for key, value in edits.items():\n",
    "        myconfig[key] = value\n",
    "    # dump config\n",
    "    with open(configfile, 'w') as f:\n",
    "        new_toml_string = toml.dump(myconfig, f)\n",
    "    print(new_toml_string)\n",
    "\n",
    "# check video extension by content\n",
    "def check_videotype(projectpath, dir):\n",
    "    session = os.listdir(projectpath)[0]\n",
    "    path = os.path.join(projectpath, session, dir)  \n",
    "    videotype = os.listdir(path)[0].split('.')[-1]\n",
    "    return videotype"
   ]
  },
  {
   "cell_type": "code",
   "execution_count": null,
   "metadata": {},
   "outputs": [],
   "source": [
    "# edit project specific anipose configurations\n",
    "edits = {\n",
    "    'project': projectpath, \n",
    "    'model_folder': '',             # change path to deeplabcut project here\n",
    "    'nesting': 1, \n",
    "    'video_extension': 'mp4',       # change video type here\n",
    "    'pipeline': {\n",
    "        'videos_raw': 'videos-raw',\n",
    "        'pose_2d': 'pose-2d',\n",
    "        'calibration_videos': 'calibration',\n",
    "    },\n",
    "    'calibration': {                # change calibration settings here\n",
    "        'board_type': 'charuco', \n",
    "        'board_size': [10, 10], \n",
    "        'board_marker_bits': 4, \n",
    "        'board_marker_dict_number': 50, \n",
    "        'board_marker_length': 14, \n",
    "        'board_square_side_length': 20, \n",
    "        'animal_calibration': False, \n",
    "        'fisheye': False,\n",
    "        }, \n",
    "    'manual_verification': {\n",
    "        'manually_verify': False,\n",
    "        },\n",
    "    'labeling': {                   # change labeling settings here\n",
    "        'scheme': [\n",
    "            ['US(UpperSpine=LN)', 'UHS(UpperHalfSpine)', 'MS(MiddleSpine)', 'LHS(LowerHalfSpine)', 'LS(LowerSpine)', 'TC(TailCenter)', 'TR(TailRight)', 'TL(TailLeft)', 'TC(TailCenter)'], \n",
    "            ['H(Head)', 'UN(UpperNeck)', 'UHN(UpperHalfNeck)', 'MN(MiddleNeck)', 'LHN(LowerHalfNeck)', 'US(UpperSpine=LN)'], \n",
    "            ['BT(BeakTip)', 'LC(LowerCere)', 'UC(UpperCere)', 'RE(RightEye)', 'LE(LeftEye)', 'UC(UpperCere)', 'H(Head)'], \n",
    "            ['LWS(LeftWingShoulder)', 'LWE(LeftWingElbow)', 'LWW(LeftWingWriwst)', 'LWT(LeftWingTip)', 'LWS(LeftWingShoulder)', 'US(UpperSpine=LN)', 'RWS(RightWingShoulder)', 'RWE(RightWingElbow)', 'RWW(RightWingWriwst)', 'RWT(RightWingTip)', 'RWS(RightWingShoulder)'], \n",
    "            ['LWS(LeftWingShoulder)', 'LC(LeftChest)', 'LHC(LeftHalfChest)', 'MC(MiddleChest)', 'RHC(RightHalfChest)', 'RC(RightChest)', 'RWS(RightWingShoulder)', 'LWS(LeftWingShoulder)'], \n",
    "            ['BT(BeakTip)', 'C(Chin)', 'MT(MiddleThroat)', 'MC(MiddleChest)'], \n",
    "            ['RWS(RightWingShoulder)', 'RT(RightTibia)', 'RA(RightAnkle)', 'RF(RightFoot)'], \n",
    "            ['LWS(LeftWingShoulder)', 'LT(LeftTibia)', 'LA(LeftAnkle)', 'LF(LeftFoot)'], ]\n",
    "            }, \n",
    "    }"
   ]
  },
  {
   "cell_type": "code",
   "execution_count": null,
   "metadata": {},
   "outputs": [],
   "source": [
    "# change config.toml\n",
    "change_toml(edits, configfile)"
   ]
  },
  {
   "cell_type": "markdown",
   "metadata": {},
   "source": [
    "## Anipose Pipeline"
   ]
  },
  {
   "cell_type": "markdown",
   "metadata": {},
   "source": [
    "### 1. Analyze Videos\n",
    "\n",
    "This may take a while. Anipose lists the videos in `videos-raw` in each session and uses the DeepLabCut project listed in the config.toml file to extract pose coordinates. This step requires a GPU.\n",
    "\n",
    "Open a new anaconda prompt:\n",
    "```\n",
    "conda activate anipose\n",
    "cd <projectpath>\n",
    "anipose analyze\n",
    "```"
   ]
  },
  {
   "cell_type": "markdown",
   "metadata": {},
   "source": [
    "### 2. Filter Predictions\n",
    "\n",
    "Remember to change any project specific settings above before filtering the data.\n",
    "\n",
    "```\n",
    "conda activate anipose\n",
    "cd <projectpath>\n",
    "anipose filter\n",
    "```"
   ]
  },
  {
   "cell_type": "markdown",
   "metadata": {},
   "source": [
    "### 3. Calibrate\n",
    "\n",
    "Remember to change any project specific settings above before calibrating your cameras.\n",
    "\n",
    "```\n",
    "conda activate anipose\n",
    "cd <projectpath>\n",
    "anipose calibrate\n",
    "```"
   ]
  },
  {
   "cell_type": "markdown",
   "metadata": {},
   "source": [
    "### 4. Triangulate\n",
    "\n",
    "Remember to change any project specific settings above before triangulating your data, specifically the `constraints` for spatial optimization.\n",
    "\n",
    "```\n",
    "conda activate anipose\n",
    "cd <projectpath>\n",
    "anipose triangulate\n",
    "```"
   ]
  },
  {
   "cell_type": "markdown",
   "metadata": {},
   "source": [
    "### 5. Create 2D labeled Videos (**Optional**)\n",
    "\n",
    "Remember to change any project specific settings above before labeling videos, specifically the `scheme`, i.e. skeleton.\n",
    "\n",
    "```\n",
    "conda activate anipose\n",
    "cd <projectpath>\n",
    "anipose label-2d\n",
    "```"
   ]
  },
  {
   "cell_type": "markdown",
   "metadata": {},
   "source": [
    "### 6. Create 3D labeled Videos (**Optional**)\n",
    "\n",
    "Remember to change any project specific settings above before labeling videos, specifically the `scheme`, i.e. skeleton.\n",
    "\n",
    "```\n",
    "conda activate anipose\n",
    "cd <projectpath>\n",
    "anipose label-3d\n",
    "```"
   ]
  },
  {
   "cell_type": "markdown",
   "metadata": {},
   "source": [
    "### 7. Filter 3D Pose Reconstruction (**Optional**)\n",
    "\n",
    "```\n",
    "conda activate anipose\n",
    "cd <projectpath>\n",
    "anipose filter-3d\n",
    "```"
   ]
  }
 ],
 "metadata": {
  "interpreter": {
   "hash": "1de939d8090db67da0b866c429fefcaa95fa761442ad47464de8d8f52c7d20a5"
  },
  "kernelspec": {
   "display_name": "Python 3.7.11 ('anipose')",
   "language": "python",
   "name": "python3"
  },
  "language_info": {
   "codemirror_mode": {
    "name": "ipython",
    "version": 3
   },
   "file_extension": ".py",
   "mimetype": "text/x-python",
   "name": "python",
   "nbconvert_exporter": "python",
   "pygments_lexer": "ipython3",
   "version": "3.7.11"
  }
 },
 "nbformat": 4,
 "nbformat_minor": 2
}